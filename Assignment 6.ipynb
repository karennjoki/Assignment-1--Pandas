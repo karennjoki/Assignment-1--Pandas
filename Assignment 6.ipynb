{
 "cells": [
  {
   "cell_type": "code",
   "execution_count": 1,
   "id": "064313c7",
   "metadata": {},
   "outputs": [],
   "source": [
    "import pandas as pd\n",
    "import numpy as np\n",
    "import plotly.express as px\n",
    "df = px.data.gapminder()"
   ]
  },
  {
   "cell_type": "code",
   "execution_count": 2,
   "id": "e4e6c6d5",
   "metadata": {},
   "outputs": [
    {
     "data": {
      "text/html": [
       "<div>\n",
       "<style scoped>\n",
       "    .dataframe tbody tr th:only-of-type {\n",
       "        vertical-align: middle;\n",
       "    }\n",
       "\n",
       "    .dataframe tbody tr th {\n",
       "        vertical-align: top;\n",
       "    }\n",
       "\n",
       "    .dataframe thead th {\n",
       "        text-align: right;\n",
       "    }\n",
       "</style>\n",
       "<table border=\"1\" class=\"dataframe\">\n",
       "  <thead>\n",
       "    <tr style=\"text-align: right;\">\n",
       "      <th></th>\n",
       "      <th>country</th>\n",
       "      <th>continent</th>\n",
       "      <th>year</th>\n",
       "      <th>lifeExp</th>\n",
       "      <th>pop</th>\n",
       "      <th>gdpPercap</th>\n",
       "      <th>iso_alpha</th>\n",
       "      <th>iso_num</th>\n",
       "    </tr>\n",
       "  </thead>\n",
       "  <tbody>\n",
       "    <tr>\n",
       "      <th>0</th>\n",
       "      <td>Afghanistan</td>\n",
       "      <td>Asia</td>\n",
       "      <td>1952</td>\n",
       "      <td>28.801</td>\n",
       "      <td>8425333</td>\n",
       "      <td>779.445314</td>\n",
       "      <td>AFG</td>\n",
       "      <td>4</td>\n",
       "    </tr>\n",
       "    <tr>\n",
       "      <th>1</th>\n",
       "      <td>Afghanistan</td>\n",
       "      <td>Asia</td>\n",
       "      <td>1957</td>\n",
       "      <td>30.332</td>\n",
       "      <td>9240934</td>\n",
       "      <td>820.853030</td>\n",
       "      <td>AFG</td>\n",
       "      <td>4</td>\n",
       "    </tr>\n",
       "    <tr>\n",
       "      <th>2</th>\n",
       "      <td>Afghanistan</td>\n",
       "      <td>Asia</td>\n",
       "      <td>1962</td>\n",
       "      <td>31.997</td>\n",
       "      <td>10267083</td>\n",
       "      <td>853.100710</td>\n",
       "      <td>AFG</td>\n",
       "      <td>4</td>\n",
       "    </tr>\n",
       "    <tr>\n",
       "      <th>3</th>\n",
       "      <td>Afghanistan</td>\n",
       "      <td>Asia</td>\n",
       "      <td>1967</td>\n",
       "      <td>34.020</td>\n",
       "      <td>11537966</td>\n",
       "      <td>836.197138</td>\n",
       "      <td>AFG</td>\n",
       "      <td>4</td>\n",
       "    </tr>\n",
       "    <tr>\n",
       "      <th>4</th>\n",
       "      <td>Afghanistan</td>\n",
       "      <td>Asia</td>\n",
       "      <td>1972</td>\n",
       "      <td>36.088</td>\n",
       "      <td>13079460</td>\n",
       "      <td>739.981106</td>\n",
       "      <td>AFG</td>\n",
       "      <td>4</td>\n",
       "    </tr>\n",
       "    <tr>\n",
       "      <th>5</th>\n",
       "      <td>Afghanistan</td>\n",
       "      <td>Asia</td>\n",
       "      <td>1977</td>\n",
       "      <td>38.438</td>\n",
       "      <td>14880372</td>\n",
       "      <td>786.113360</td>\n",
       "      <td>AFG</td>\n",
       "      <td>4</td>\n",
       "    </tr>\n",
       "    <tr>\n",
       "      <th>6</th>\n",
       "      <td>Afghanistan</td>\n",
       "      <td>Asia</td>\n",
       "      <td>1982</td>\n",
       "      <td>39.854</td>\n",
       "      <td>12881816</td>\n",
       "      <td>978.011439</td>\n",
       "      <td>AFG</td>\n",
       "      <td>4</td>\n",
       "    </tr>\n",
       "    <tr>\n",
       "      <th>7</th>\n",
       "      <td>Afghanistan</td>\n",
       "      <td>Asia</td>\n",
       "      <td>1987</td>\n",
       "      <td>40.822</td>\n",
       "      <td>13867957</td>\n",
       "      <td>852.395945</td>\n",
       "      <td>AFG</td>\n",
       "      <td>4</td>\n",
       "    </tr>\n",
       "    <tr>\n",
       "      <th>8</th>\n",
       "      <td>Afghanistan</td>\n",
       "      <td>Asia</td>\n",
       "      <td>1992</td>\n",
       "      <td>41.674</td>\n",
       "      <td>16317921</td>\n",
       "      <td>649.341395</td>\n",
       "      <td>AFG</td>\n",
       "      <td>4</td>\n",
       "    </tr>\n",
       "    <tr>\n",
       "      <th>9</th>\n",
       "      <td>Afghanistan</td>\n",
       "      <td>Asia</td>\n",
       "      <td>1997</td>\n",
       "      <td>41.763</td>\n",
       "      <td>22227415</td>\n",
       "      <td>635.341351</td>\n",
       "      <td>AFG</td>\n",
       "      <td>4</td>\n",
       "    </tr>\n",
       "  </tbody>\n",
       "</table>\n",
       "</div>"
      ],
      "text/plain": [
       "       country continent  year  lifeExp       pop   gdpPercap iso_alpha  \\\n",
       "0  Afghanistan      Asia  1952   28.801   8425333  779.445314       AFG   \n",
       "1  Afghanistan      Asia  1957   30.332   9240934  820.853030       AFG   \n",
       "2  Afghanistan      Asia  1962   31.997  10267083  853.100710       AFG   \n",
       "3  Afghanistan      Asia  1967   34.020  11537966  836.197138       AFG   \n",
       "4  Afghanistan      Asia  1972   36.088  13079460  739.981106       AFG   \n",
       "5  Afghanistan      Asia  1977   38.438  14880372  786.113360       AFG   \n",
       "6  Afghanistan      Asia  1982   39.854  12881816  978.011439       AFG   \n",
       "7  Afghanistan      Asia  1987   40.822  13867957  852.395945       AFG   \n",
       "8  Afghanistan      Asia  1992   41.674  16317921  649.341395       AFG   \n",
       "9  Afghanistan      Asia  1997   41.763  22227415  635.341351       AFG   \n",
       "\n",
       "   iso_num  \n",
       "0        4  \n",
       "1        4  \n",
       "2        4  \n",
       "3        4  \n",
       "4        4  \n",
       "5        4  \n",
       "6        4  \n",
       "7        4  \n",
       "8        4  \n",
       "9        4  "
      ]
     },
     "execution_count": 2,
     "metadata": {},
     "output_type": "execute_result"
    }
   ],
   "source": [
    "df.head(10)"
   ]
  },
  {
   "cell_type": "code",
   "execution_count": 3,
   "id": "ddbeadfa",
   "metadata": {},
   "outputs": [
    {
     "name": "stdout",
     "output_type": "stream",
     "text": [
      "<class 'pandas.core.frame.DataFrame'>\n",
      "RangeIndex: 1704 entries, 0 to 1703\n",
      "Data columns (total 8 columns):\n",
      " #   Column     Non-Null Count  Dtype  \n",
      "---  ------     --------------  -----  \n",
      " 0   country    1704 non-null   object \n",
      " 1   continent  1704 non-null   object \n",
      " 2   year       1704 non-null   int64  \n",
      " 3   lifeExp    1704 non-null   float64\n",
      " 4   pop        1704 non-null   int64  \n",
      " 5   gdpPercap  1704 non-null   float64\n",
      " 6   iso_alpha  1704 non-null   object \n",
      " 7   iso_num    1704 non-null   int64  \n",
      "dtypes: float64(2), int64(3), object(3)\n",
      "memory usage: 106.6+ KB\n"
     ]
    }
   ],
   "source": [
    "df.info()"
   ]
  },
  {
   "cell_type": "code",
   "execution_count": 4,
   "id": "cd142c56",
   "metadata": {},
   "outputs": [
    {
     "data": {
      "text/plain": [
       "Africa      624\n",
       "Asia        396\n",
       "Europe      360\n",
       "Americas    300\n",
       "Oceania      24\n",
       "Name: continent, dtype: int64"
      ]
     },
     "execution_count": 4,
     "metadata": {},
     "output_type": "execute_result"
    }
   ],
   "source": [
    "df.continent.value_counts()"
   ]
  },
  {
   "cell_type": "markdown",
   "id": "79a3c038",
   "metadata": {},
   "source": [
    "## Question 1\n",
    "The mean life expectancy of all the Asian countries according to the data."
   ]
  },
  {
   "cell_type": "code",
   "execution_count": 5,
   "id": "fd3a4c0c",
   "metadata": {},
   "outputs": [
    {
     "data": {
      "text/plain": [
       "country      continent  year  lifeExp  pop        gdpPercap     iso_alpha  iso_num\n",
       "Afghanistan  Asia       1952  28.801   8425333    779.445314    AFG        4          1\n",
       "Pakistan     Asia       1992  60.838   120065004  1971.829464   PAK        586        1\n",
       "                        1982  56.158   91462088   1443.429832   PAK        586        1\n",
       "                        1977  54.043   78152686   1175.921193   PAK        586        1\n",
       "                        1972  51.929   69325921   1049.938981   PAK        586        1\n",
       "                                                                                     ..\n",
       "Israel       Asia       1997  78.269   5531387    20896.609240  ISR        376        1\n",
       "                        1992  76.930   4936550    18051.522540  ISR        376        1\n",
       "                        1987  75.600   4203148    17122.479860  ISR        376        1\n",
       "                        1982  74.450   3858421    15367.029200  ISR        376        1\n",
       "Yemen, Rep.  Asia       2007  62.698   22211743   2280.769906   YEM        887        1\n",
       "Length: 396, dtype: int64"
      ]
     },
     "execution_count": 5,
     "metadata": {},
     "output_type": "execute_result"
    }
   ],
   "source": [
    "Asia = df[df['continent'] == 'Asia']\n",
    "Asia.head(10)\n",
    "Asia.value_counts()"
   ]
  },
  {
   "cell_type": "code",
   "execution_count": 6,
   "id": "81d0b619",
   "metadata": {},
   "outputs": [
    {
     "name": "stdout",
     "output_type": "stream",
     "text": [
      "60.064903232323175\n"
     ]
    }
   ],
   "source": [
    "Asia_mean = Asia['lifeExp'].mean()\n",
    "print(Asia_mean)"
   ]
  },
  {
   "cell_type": "markdown",
   "id": "a560a48d",
   "metadata": {},
   "source": [
    "## Question 2\n",
    " Deviation in GDP of each country in Europe and South America."
   ]
  },
  {
   "cell_type": "code",
   "execution_count": 7,
   "id": "ea069786",
   "metadata": {},
   "outputs": [
    {
     "name": "stdout",
     "output_type": "stream",
     "text": [
      "        country continent  year  lifeExp       pop     gdpPercap iso_alpha  \\\n",
      "12      Albania    Europe  1952   55.230   1282697   1601.056136       ALB   \n",
      "13      Albania    Europe  1957   59.280   1476505   1942.284244       ALB   \n",
      "14      Albania    Europe  1962   64.820   1728137   2312.888958       ALB   \n",
      "15      Albania    Europe  1967   66.220   1984060   2760.196931       ALB   \n",
      "16      Albania    Europe  1972   67.690   2263554   3313.422188       ALB   \n",
      "...         ...       ...   ...      ...       ...           ...       ...   \n",
      "1639  Venezuela  Americas  1987   70.190  17910182   9883.584648       VEN   \n",
      "1640  Venezuela  Americas  1992   71.150  20265563  10733.926310       VEN   \n",
      "1641  Venezuela  Americas  1997   72.146  22374398  10165.495180       VEN   \n",
      "1642  Venezuela  Americas  2002   72.766  24287670   8605.047831       VEN   \n",
      "1643  Venezuela  Americas  2007   73.747  26084662  11415.805690       VEN   \n",
      "\n",
      "      iso_num  \n",
      "12          8  \n",
      "13          8  \n",
      "14          8  \n",
      "15          8  \n",
      "16          8  \n",
      "...       ...  \n",
      "1639      862  \n",
      "1640      862  \n",
      "1641      862  \n",
      "1642      862  \n",
      "1643      862  \n",
      "\n",
      "[660 rows x 8 columns]\n"
     ]
    }
   ],
   "source": [
    "Eur_A = df[df['continent'].isin(['Americas', 'Europe'])]\n",
    "\n",
    "print(Eur_A)"
   ]
  },
  {
   "cell_type": "code",
   "execution_count": 15,
   "id": "ca7ce220",
   "metadata": {},
   "outputs": [
    {
     "name": "stdout",
     "output_type": "stream",
     "text": [
      "        country continent  year  lifeExp       pop     gdpPercap iso_alpha  \\\n",
      "12      Albania    Europe  1952   55.230   1282697   1601.056136       ALB   \n",
      "13      Albania    Europe  1957   59.280   1476505   1942.284244       ALB   \n",
      "14      Albania    Europe  1962   64.820   1728137   2312.888958       ALB   \n",
      "15      Albania    Europe  1967   66.220   1984060   2760.196931       ALB   \n",
      "16      Albania    Europe  1972   67.690   2263554   3313.422188       ALB   \n",
      "...         ...       ...   ...      ...       ...           ...       ...   \n",
      "1639  Venezuela  Americas  1987   70.190  17910182   9883.584648       VEN   \n",
      "1640  Venezuela  Americas  1992   71.150  20265563  10733.926310       VEN   \n",
      "1641  Venezuela  Americas  1997   72.146  22374398  10165.495180       VEN   \n",
      "1642  Venezuela  Americas  2002   72.766  24287670   8605.047831       VEN   \n",
      "1643  Venezuela  Americas  2007   73.747  26084662  11415.805690       VEN   \n",
      "\n",
      "      iso_num           Std  \n",
      "12          8  4.837433e+05  \n",
      "13          8  5.568592e+05  \n",
      "14          8  6.517992e+05  \n",
      "15          8  7.483498e+05  \n",
      "16          8  8.537847e+05  \n",
      "...       ...           ...  \n",
      "1639      862  6.759305e+06  \n",
      "1640      862  7.648332e+06  \n",
      "1641      862  8.444473e+06  \n",
      "1642      862  9.166918e+06  \n",
      "1643      862  9.844906e+06  \n",
      "\n",
      "[660 rows x 9 columns]\n"
     ]
    }
   ],
   "source": [
    "#df.drop(['A'], axis = 1)\n",
    "Eur_A['Std'] = Eur_A.std(axis = 1)\n",
    "Eur_Am = Eur_A.drop(['STD'], axis = 1)\n",
    "\n",
    "import warnings\n",
    "warnings.filterwarnings('ignore')\n",
    "print(Eur_Am)"
   ]
  },
  {
   "cell_type": "markdown",
   "id": "3fa7267c",
   "metadata": {},
   "source": [
    "## Question 3\n",
    "The change in population of each African country in the last 3 decades."
   ]
  },
  {
   "cell_type": "code",
   "execution_count": 16,
   "id": "f8b5e6fc",
   "metadata": {},
   "outputs": [
    {
     "name": "stdout",
     "output_type": "stream",
     "text": [
      "       country continent  year  lifeExp       pop    gdpPercap iso_alpha  \\\n",
      "24     Algeria    Africa  1952   43.077   9279525  2449.008185       DZA   \n",
      "25     Algeria    Africa  1957   45.685  10270856  3013.976023       DZA   \n",
      "26     Algeria    Africa  1962   48.303  11000948  2550.816880       DZA   \n",
      "27     Algeria    Africa  1967   51.407  12760499  3246.991771       DZA   \n",
      "28     Algeria    Africa  1972   54.518  14760787  4182.663766       DZA   \n",
      "...        ...       ...   ...      ...       ...          ...       ...   \n",
      "1699  Zimbabwe    Africa  1987   62.351   9216418   706.157306       ZWE   \n",
      "1700  Zimbabwe    Africa  1992   60.377  10704340   693.420786       ZWE   \n",
      "1701  Zimbabwe    Africa  1997   46.809  11404948   792.449960       ZWE   \n",
      "1702  Zimbabwe    Africa  2002   39.989  11926563   672.038623       ZWE   \n",
      "1703  Zimbabwe    Africa  2007   43.487  12311143   469.709298       ZWE   \n",
      "\n",
      "      iso_num  \n",
      "24         12  \n",
      "25         12  \n",
      "26         12  \n",
      "27         12  \n",
      "28         12  \n",
      "...       ...  \n",
      "1699      716  \n",
      "1700      716  \n",
      "1701      716  \n",
      "1702      716  \n",
      "1703      716  \n",
      "\n",
      "[624 rows x 8 columns]\n"
     ]
    }
   ],
   "source": [
    "Africa = df[df['continent'] == 'Africa']\n",
    "print(Africa)"
   ]
  },
  {
   "cell_type": "code",
   "execution_count": null,
   "id": "7d77c4b6",
   "metadata": {},
   "outputs": [],
   "source": []
  }
 ],
 "metadata": {
  "kernelspec": {
   "display_name": "Python 3",
   "language": "python",
   "name": "python3"
  },
  "language_info": {
   "codemirror_mode": {
    "name": "ipython",
    "version": 3
   },
   "file_extension": ".py",
   "mimetype": "text/x-python",
   "name": "python",
   "nbconvert_exporter": "python",
   "pygments_lexer": "ipython3",
   "version": "3.8.8"
  }
 },
 "nbformat": 4,
 "nbformat_minor": 5
}
